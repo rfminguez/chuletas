{
 "cells": [
  {
   "cell_type": "markdown",
   "metadata": {},
   "source": [
    "# Trabajar con CSV"
   ]
  },
  {
   "cell_type": "markdown",
   "metadata": {},
   "source": [
    "## Dividir un csv por coma y mostrar los campos\n",
    "`cat cosa.csv | head | cut -d \",\" -f 1,2,3`\n",
    "\n",
    "`cat cosa.csv | head | cut -d \",\" -f 1-8`"
   ]
  },
  {
   "cell_type": "markdown",
   "metadata": {},
   "source": [
    "## Crear un nuevo fichero independiente con ficheros filtrados\n",
    "`cat coches.csv | grep \"Ferrari\" > solo_ferrari.csv`"
   ]
  },
  {
   "cell_type": "markdown",
   "metadata": {},
   "source": [
    "# Llamar a una API\n",
    "Con algunas API funciona sin problemas:\n",
    "\n",
    "`curl https://pokeapi.co/api/v2/pokemon/25`\n",
    "\n",
    "Con otras sin embargo no. Esta funciona bien si la llamo desde un navegador pero no si lo hago usando `curl`:\n",
    "\n",
    "Yuma MCAS-Yuma International,Yuma,AZ,32.65658333,-114.6059722\n",
    "\n",
    "http://api.openweathermap.org/data/2.5/weather?q=London,uk&APPID={MI_API_KEY}\n",
    "\n",
    "http://api.openweathermap.org/data/2.5/onecall?lat=32.65658333&lon=-114.6059722&APPID={MI_API_KEY}\n"
   ]
  },
  {
   "cell_type": "markdown",
   "metadata": {},
   "source": [
    "# Trabajar con JSON\n",
    "Si llamamos a una API, suele devolver el contenido en JSON. Por ejemplo:\n",
    "\n",
    "`curl https://pokeapi.co/api/v2/pokemon/25`\n",
    "\n",
    "**JQ** es un procesador de JSON para trabajar desde la terminal:\n",
    "\n",
    "`curl https://pokeapi.co/api/v2/pokemon/25 | jq \".name\"`\n",
    "\n",
    "`curl https://pokeapi.co/api/v2/pokemon/25 | jq \".name, .order, .sprites.front_default\"`\n"
   ]
  },
  {
   "cell_type": "markdown",
   "metadata": {},
   "source": [
    "# Ejecutar comandos desde Python\n",
    "Podemos ejecutar comandos de CLI desde un script Python usando el módulo `subprocess`."
   ]
  },
  {
   "cell_type": "code",
   "execution_count": 2,
   "metadata": {},
   "outputs": [
    {
     "data": {
      "text/plain": [
       "b'linux_bash.ipynb\\nLinux Command Line Cheat Sheet.pdf\\nmongodb_y_geoloc.ipynb\\nREADME.md\\n'"
      ]
     },
     "execution_count": 2,
     "metadata": {},
     "output_type": "execute_result"
    }
   ],
   "source": [
    "import sys\n",
    "from subprocess import check_output\n",
    "\n",
    "texto = \"*.*\"\n",
    "cmd = f'ls {texto}'\n",
    "\n",
    "respuesta = check_output([\"/bin/bash\", \"-c\", cmd])\n",
    "\n",
    "respuesta\n"
   ]
  },
  {
   "cell_type": "markdown",
   "metadata": {},
   "source": [
    "# Pasar argumentos a un script Python desde CLI pasándole argumentos"
   ]
  },
  {
   "cell_type": "code",
   "execution_count": null,
   "metadata": {},
   "outputs": [],
   "source": [
    "#!/usr/bin/env python3\n",
    "import sys\n",
    "import argparse\n",
    "\n",
    "# Es necesario usar el paquete argparse\n",
    "\n",
    "# Algunos validadores extra:\n",
    "def only_year(year_str, min_year=1980, max_year=2010):\n",
    "    year = 2020\n",
    "\n",
    "    try:\n",
    "        year = int(year_str)\n",
    "    except Exception:\n",
    "        argparse.ArgumentTypeError(\"%s no es un valor entero positivo\" % year_str)\n",
    "\n",
    "    if year > min_year and year < max_year:\n",
    "        return year\n",
    "    else:\n",
    "        argparse.ArgumentTypeError(f\"El año debe estar entre {min_year} y {max_year}.\")\n",
    "\n",
    "def main():\n",
    "    parser = argparse.ArgumentParser(description=\"Saluda a un vecino.\")\n",
    "\n",
    "    parser.add_argument(\"-a\",\n",
    "                        dest=\"apellidos\",\n",
    "                        default = \"Garcia\",\n",
    "                        help=\"Apellidos de la persona a la que saludar.\")\n",
    "\n",
    "    parser.add_argument(\"-n\", dest=\"nombre\",\n",
    "                        default = \"Paquito\",\n",
    "                        help=\"El nombre de la persona a la que saludar.\")\n",
    "\n",
    "    parser.add_argument(\"-y\", dest=\"year\",\n",
    "                        default = 2020,\n",
    "                        type=only_year, # OJO: aquí necesita el nombre de una función. No podemos pasarle parámetros.\n",
    "\n",
    "    # Si quisiésemos usar argumentos en el \"type\" tendríamos que usar un wrapper.\n",
    "    # Por ejemplo:\n",
    "    #def years_wrapper(min_year=1980, max_year=2010):\n",
    "    #    def wrapper(only_year):\n",
    "    #        if year >= min_year and year <= max_year:\n",
    "    #            return year\n",
    "    #        else:\n",
    "    #            raise argparse.ArgumentTypeError(\"Año no valido\")\n",
    "    #    return wrapper\n",
    "    #parse.add_argument(\"-x\", \n",
    "    #                    dest=\"mi_variable\",\n",
    "    #                    type=years_wrapper(1990, 2018),\n",
    "    #                    help=\"ayuda y tal.\"\n",
    "    #)\n",
    "\n",
    "    args = parser.parse_args()\n",
    "    #print(args)\n",
    "\n",
    "    nombre = args.nombre\n",
    "    apellidos = args.apellidos\n",
    "    year = args.year\n",
    "\n",
    "    print(f\"Hola que haseee {nombre} {apellidos}. Naciste el {year}.\")\n",
    "\n",
    "\n",
    "if __name__ == \"__main__\":\n",
    "    # Prueba a llamar este programa desde línea de comandos con el argumento \"-h\" para ver que sale la ayuda.\n",
    "    main()"
   ]
  },
  {
   "cell_type": "code",
   "execution_count": null,
   "metadata": {},
   "outputs": [],
   "source": []
  }
 ],
 "metadata": {
  "kernelspec": {
   "display_name": "Python [conda env:ironhack_env]",
   "language": "python",
   "name": "conda-env-ironhack_env-py"
  },
  "language_info": {
   "codemirror_mode": {
    "name": "ipython",
    "version": 3
   },
   "file_extension": ".py",
   "mimetype": "text/x-python",
   "name": "python",
   "nbconvert_exporter": "python",
   "pygments_lexer": "ipython3",
   "version": "3.8.5"
  }
 },
 "nbformat": 4,
 "nbformat_minor": 4
}
