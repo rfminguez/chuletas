{
 "cells": [
  {
   "cell_type": "code",
   "execution_count": 2,
   "metadata": {},
   "outputs": [],
   "source": [
    "import requests\n",
    "from bs4 import BeautifulSoup"
   ]
  },
  {
   "cell_type": "code",
   "execution_count": 3,
   "metadata": {},
   "outputs": [
    {
     "name": "stdout",
     "output_type": "stream",
     "text": [
      "<Response [200]>\n"
     ]
    },
    {
     "data": {
      "text/plain": [
       "[<td>Belgium\n",
       " </td>,\n",
       " <td>(BE)\n",
       " </td>,\n",
       " <td>Greece\n",
       " </td>,\n",
       " <td>(EL)\n",
       " </td>,\n",
       " <td>Lithuania\n",
       " </td>,\n",
       " <td>(LT)\n",
       " </td>,\n",
       " <td>Portugal\n",
       " </td>,\n",
       " <td>(PT)\n",
       " </td>,\n",
       " <td>Bulgaria\n",
       " </td>,\n",
       " <td>(BG)\n",
       " </td>]"
      ]
     },
     "execution_count": 3,
     "metadata": {},
     "output_type": "execute_result"
    }
   ],
   "source": [
    "url = \"https://ec.europa.eu/eurostat/statistics-explained/index.php/Glossary:Country_codes\"\n",
    "\n",
    "response = requests.get(url)\n",
    "soup = BeautifulSoup(response.text, \"html.parser\")\n",
    "\n",
    "# Respuesta HTTP\n",
    "print(response)\n",
    "\n",
    "# Using CSS selectors pick every <td> under a <table><tr> structure\n",
    "elementos = soup.select(\"table tr td\")\n",
    "\n",
    "elementos[:10]"
   ]
  }
 ],
 "metadata": {
  "kernelspec": {
   "display_name": "Python [conda env:ironhack_env]",
   "language": "python",
   "name": "conda-env-ironhack_env-py"
  },
  "language_info": {
   "codemirror_mode": {
    "name": "ipython",
    "version": 3
   },
   "file_extension": ".py",
   "mimetype": "text/x-python",
   "name": "python",
   "nbconvert_exporter": "python",
   "pygments_lexer": "ipython3",
   "version": "3.8.5"
  }
 },
 "nbformat": 4,
 "nbformat_minor": 4
}
