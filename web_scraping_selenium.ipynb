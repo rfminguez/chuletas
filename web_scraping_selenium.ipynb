{
 "cells": [
  {
   "cell_type": "markdown",
   "metadata": {},
   "source": [
    "# Instalar\n",
    "\n",
    "`$ conda install selenium`\n",
    "\n",
    "`$ conda install -c conda-forge geckodriver `\n",
    "# Ejemplo"
   ]
  },
  {
   "cell_type": "code",
   "execution_count": 42,
   "metadata": {},
   "outputs": [],
   "source": [
    "import time\n",
    "from selenium import webdriver"
   ]
  },
  {
   "cell_type": "code",
   "execution_count": 43,
   "metadata": {},
   "outputs": [],
   "source": [
    "#from pyvirtualdisplay import Display\n",
    "\n",
    "#virt_disp=Display(visible=0)\n",
    "#virt_disp.start()"
   ]
  },
  {
   "cell_type": "code",
   "execution_count": 44,
   "metadata": {},
   "outputs": [
    {
     "name": "stdout",
     "output_type": "stream",
     "text": [
      "Ironhack Madrid\n",
      "1,334 Tweets\n",
      "Follow\n"
     ]
    }
   ],
   "source": [
    "url='https://twitter.com/IronhackMAD/'\n",
    "\n",
    "# Abro el \"navegador\"\n",
    "driver = webdriver.Firefox()\n",
    "driver.get(url)\n",
    "\n",
    "# Espero un ratito hasta que ha cargado la página\n",
    "time.sleep(10)\n",
    "\n",
    "# Busco el elemento en la página (si no hago el sleep anterior esto fallará)\n",
    "elemento = driver.find_element_by_css_selector('div[data-testid=\"titleContainer\"]')\n",
    "\n",
    "# Muestro el contenido del elemento que he buscado\n",
    "print(elemento.text)\n",
    "\n",
    "# Cierro el \"navegador\"\n",
    "driver.quit()\n"
   ]
  },
  {
   "cell_type": "markdown",
   "metadata": {},
   "source": [
    "# APÉNDICE: Localizar elementos en el HTML con Selenium\n",
    "https://selenium-python.readthedocs.io/locating-elements.html\n",
    "\n",
    "To find **individual** elements:\n",
    "\n",
    "    find_element_by_id\n",
    "    find_element_by_name\n",
    "    find_element_by_xpath\n",
    "    find_element_by_link_text\n",
    "    find_element_by_partial_link_text\n",
    "    find_element_by_tag_name\n",
    "    find_element_by_class_name\n",
    "    find_element_by_css_selector\n",
    "\n",
    "To find **multiple** elements (these methods will return a list):\n",
    "\n",
    "    find_elements_by_name\n",
    "    find_elements_by_xpath\n",
    "    find_elements_by_link_text\n",
    "    find_elements_by_partial_link_text\n",
    "    find_elements_by_tag_name\n",
    "    find_elements_by_class_name\n",
    "    find_elements_by_css_selector\n"
   ]
  },
  {
   "cell_type": "code",
   "execution_count": null,
   "metadata": {},
   "outputs": [],
   "source": []
  }
 ],
 "metadata": {
  "kernelspec": {
   "display_name": "Python [conda env:ironhack_env]",
   "language": "python",
   "name": "conda-env-ironhack_env-py"
  },
  "language_info": {
   "codemirror_mode": {
    "name": "ipython",
    "version": 3
   },
   "file_extension": ".py",
   "mimetype": "text/x-python",
   "name": "python",
   "nbconvert_exporter": "python",
   "pygments_lexer": "ipython3",
   "version": "3.8.5"
  }
 },
 "nbformat": 4,
 "nbformat_minor": 4
}
